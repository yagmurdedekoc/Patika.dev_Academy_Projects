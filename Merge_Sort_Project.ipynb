{
 "cells": [
  {
   "cell_type": "code",
   "execution_count": 1,
   "id": "4979505e-a09b-40d4-98bd-286b0989a86b",
   "metadata": {},
   "outputs": [],
   "source": [
    "# Patika.dev Academy - Data Analysis Patika - Data Structures and Algorithms - Project 2 - Merge Sort Project \n",
    "\n",
    "# [16,21,11,8,12,22] -> Merge Sort\n",
    "# Write the stages of the above sequence according to sort type.\n",
    "# Write the Big-O notation."
   ]
  },
  {
   "cell_type": "code",
   "execution_count": 2,
   "id": "4abdf3f0-f930-49c2-8352-b8edf8197c13",
   "metadata": {},
   "outputs": [
    {
     "name": "stdout",
     "output_type": "stream",
     "text": [
      "Merge Sort Aşamaları:\n",
      "[11, 21]\n",
      "[11, 16, 21]\n",
      "[12, 22]\n",
      "[8, 12, 22]\n",
      "[8, 11, 12, 16, 21, 22]\n",
      "\n",
      "Sıralı dizi: [8, 11, 12, 16, 21, 22]\n"
     ]
    }
   ],
   "source": [
    "# Merge Sort Stages\n",
    "\n",
    "def merge_sort(arr):\n",
    "    steps = []  \n",
    "    \n",
    "    def merge(left, right):\n",
    "        result = []\n",
    "        i = j = 0\n",
    "\n",
    "        while i < len(left) and j < len(right):\n",
    "            if left[i] < right[j]:\n",
    "                result.append(left[i])\n",
    "                i += 1\n",
    "            else:\n",
    "                result.append(right[j])\n",
    "                j += 1\n",
    "\n",
    "        result.extend(left[i:])\n",
    "        result.extend(right[j:])\n",
    "        \n",
    "        return result\n",
    "    \n",
    "    def merge_sort_recursive(arr):\n",
    "        if len(arr) <= 1:\n",
    "            return arr\n",
    "\n",
    "        mid = len(arr) // 2\n",
    "        left = merge_sort_recursive(arr[:mid])\n",
    "        right = merge_sort_recursive(arr[mid:])\n",
    "        \n",
    "        merged = merge(left, right)\n",
    "        \n",
    "        steps.append(merged)\n",
    "        \n",
    "        return merged\n",
    "\n",
    "    sorted_arr = merge_sort_recursive(arr)\n",
    "    return sorted_arr, steps\n",
    "\n",
    "# [16,21,11,8,12,22] -> Merge Sort\n",
    "arr = [16, 21, 11, 8, 12, 22]\n",
    "sorted_arr, steps = merge_sort(arr)\n",
    "\n",
    "print(\"Merge Sort Aşamaları:\")\n",
    "for step in steps:\n",
    "    print(step)\n",
    "\n",
    "print(\"\\nSıralı dizi:\", sorted_arr)"
   ]
  },
  {
   "cell_type": "code",
   "execution_count": 3,
   "id": "4a080b05-0c3f-4891-a976-a26e99a9d318",
   "metadata": {},
   "outputs": [],
   "source": [
    "# Big-O Notation:\n",
    "\n",
    "# The time complexity of the Merge Sort algorithm is O(n log n) in all cases:\n",
    "\n",
    "# Best case: O(n log n)\n",
    "# Mean state: O(n log n)\n",
    "# Worst case: O(n log n)\n",
    "\n",
    "#This complexity arises because we continuously bisect the array and concatenate it at each step."
   ]
  },
  {
   "cell_type": "code",
   "execution_count": 4,
   "id": "d8339f1b-62b7-498e-8276-578ddb4234e0",
   "metadata": {},
   "outputs": [],
   "source": [
    "# Merge Sort\n",
    "\n",
    "# Given sequence: [16, 21, 11, 8, 12, 22]\n",
    "\n",
    "# 1.Firstly, I divide the sequence into two parts:\n",
    "# Left part: [16, 21, 11]\n",
    "# Right side [8, 12, 22]\n",
    "\n",
    "# 2.I divide both parts in half again:\n",
    "# Left part:\n",
    "# [16] is already alone, I don't need to do anything.\n",
    "# [21, 11] I split this part into two parts:\n",
    "# [21] and [11].\n",
    "# On the right part:\n",
    "# [8] is already alone.\n",
    "# [12, 22] I divide this part into two parts:\n",
    "# [12] and [22].\n",
    "\n",
    "# 3. Now it's time to put the small parts together in order:\n",
    "# Left part:\n",
    "# [21] and [11]: [11, 21].\n",
    "# Now I combine [16] and [11, 21] and sort them: [11, 16, 21].\n",
    "# On the right side:\n",
    "# [12] and [22] are already sorted, I merge this part: [12, 22].\n",
    "# I combine [8] with [12, 22] and sort them: [8, 12, 22].\n",
    "\n",
    "# 4. Finally, I combine both main parts:\n",
    "# [11, 16, 21] and [8, 12, 22] and sort them.\n",
    "# The result: [8, 11, 12, 16, 21, 22].\n",
    "\n",
    "# Big-O Notation\n",
    "\n",
    "# The time complexity of the Merge Sort algorithm is the same in all cases, because at each stage I split the sequence in two and at each stage I merge the pieces by sorting them.\n",
    "\n",
    "# Best case: O(n log n)\n",
    "# Mean state: O(n log n)\n",
    "# Worst case: O(n log n)\n",
    "\n",
    "# Therefore, it works with the same performance in every situation."
   ]
  }
 ],
 "metadata": {
  "kernelspec": {
   "display_name": "Python 3 (ipykernel)",
   "language": "python",
   "name": "python3"
  },
  "language_info": {
   "codemirror_mode": {
    "name": "ipython",
    "version": 3
   },
   "file_extension": ".py",
   "mimetype": "text/x-python",
   "name": "python",
   "nbconvert_exporter": "python",
   "pygments_lexer": "ipython3",
   "version": "3.12.4"
  }
 },
 "nbformat": 4,
 "nbformat_minor": 5
}
