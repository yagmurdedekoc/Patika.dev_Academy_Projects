{
 "cells": [
  {
   "cell_type": "code",
   "execution_count": null,
   "id": "0308bf1e-f9e6-4ec5-b665-e32fd1bd92af",
   "metadata": {},
   "outputs": [],
   "source": [
    "# Patika.dev Academy - Data Analysis Patika - Python Basic - Project \n",
    "\n",
    "# Write a function that flattens a list. Its elements can consist of multiple layered lists (such as [[3],2]) or non-scalar data. For example\n",
    "# input: [[1,‘a’,[‘cat’],2],[[[3]],‘dog’],4,5]\n",
    "# output: [1,‘a’,‘cat’,2,3,‘dog’,4,5]\n",
    "\n",
    "# Write a function that inverts the elements in a given list. If the elements inside the list also contain a list, return their elements also. For example\n",
    "# input: [[1, 2], [3, 4], [5, 6, 7]]\n",
    "# output: [[[7, 6, 5], [4, 3], [2, 1]]"
   ]
  },
  {
   "cell_type": "code",
   "execution_count": 4,
   "id": "c53c4cae-4edb-4ac1-9bbc-f8dc49fc19da",
   "metadata": {},
   "outputs": [
    {
     "name": "stdout",
     "output_type": "stream",
     "text": [
      "Flattened List: [1, 'a', 'cat', 2, 3, 'dog', 4, 5]\n",
      "Reversed List: [[7, 6, 5], [4, 3], [2, 1]]\n"
     ]
    }
   ],
   "source": [
    "def flatten(lst):\n",
    "    result = []\n",
    "    for item in lst:\n",
    "        if isinstance(item, list):\n",
    "            result.extend(flatten(item))  # Recursively flatten inner lists\n",
    "        else:\n",
    "            result.append(item)  # Add scalar item\n",
    "    return result\n",
    "\n",
    "def reverse_list(lst):\n",
    "    reversed_list = []\n",
    "    for item in reversed(lst):  # Reverse the outer list\n",
    "        if isinstance(item, list):\n",
    "            reversed_list.append(reverse_list(item))  # Recursively reverse inner lists\n",
    "        else:\n",
    "            reversed_list.append(item)  # Add scalar item\n",
    "    return reversed_list\n",
    "\n",
    "# Example usage for flatten function\n",
    "input_list_flat = [[1, 'a', ['cat'], 2], [[[3]], 'dog'], 4, 5]\n",
    "flattened_list = flatten(input_list_flat)\n",
    "print(\"Flattened List:\", flattened_list)\n",
    "\n",
    "# Example usage for reverse_list function\n",
    "input_list_reverse = [[1, 2], [3, 4], [5, 6, 7]]\n",
    "reversed_list = reverse_list(input_list_reverse)\n",
    "print(\"Reversed List:\", reversed_list)"
   ]
  }
 ],
 "metadata": {
  "kernelspec": {
   "display_name": "Python 3 (ipykernel)",
   "language": "python",
   "name": "python3"
  },
  "language_info": {
   "codemirror_mode": {
    "name": "ipython",
    "version": 3
   },
   "file_extension": ".py",
   "mimetype": "text/x-python",
   "name": "python",
   "nbconvert_exporter": "python",
   "pygments_lexer": "ipython3",
   "version": "3.12.4"
  }
 },
 "nbformat": 4,
 "nbformat_minor": 5
}
