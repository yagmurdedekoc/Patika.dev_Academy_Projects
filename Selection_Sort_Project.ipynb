{
 "cells": [
  {
   "cell_type": "code",
   "execution_count": 1,
   "id": "9ec6c55f-e9b8-44a7-b50f-35876ddd47ab",
   "metadata": {},
   "outputs": [],
   "source": [
    "# Patika.dev Academy - Data Analysis Patika - Data Structures and Algorithms - Project 1 - Selection Sort Project \n",
    "\n",
    "# [22 27 16 2 18 6] -> Insertion Sort\n",
    "# Write the stages of the sequence given above according to sort type.\n",
    "# Write the Big-O representation.\n",
    "# Time Complexity: After the array is sorted, the number 18 falls under which of the following cases? Write it down.\n",
    "\n",
    "# 1. Average case: The number we are looking for is in the middle.\n",
    "# 2. Worst case: The number we are looking for is at the end.\n",
    "# 3. Best case The number we are looking for is at the beginning of the array.\n",
    "\n",
    "# Write the first 4 steps of the sequence [7,3,5,8,2,9,4,15,6] according to Selection Sort."
   ]
  },
  {
   "cell_type": "code",
   "execution_count": 2,
   "id": "b31f66cc-4d6c-4794-ae51-d61711a4c23c",
   "metadata": {},
   "outputs": [
    {
     "name": "stdout",
     "output_type": "stream",
     "text": [
      "Insertion Sort Stages:\n",
      "[22, 27, 16, 2, 18, 6]\n",
      "[22, 27, 16, 2, 18, 6]\n",
      "[16, 22, 27, 2, 18, 6]\n",
      "[2, 16, 22, 27, 18, 6]\n",
      "[2, 16, 18, 22, 27, 6]\n",
      "[2, 6, 16, 18, 22, 27]\n"
     ]
    }
   ],
   "source": [
    "# Insertion Sort Stages\n",
    "\n",
    "def insertion_sort(arr):\n",
    "    steps = []  \n",
    "    n = len(arr)\n",
    "    \n",
    "    steps.append(arr.copy())\n",
    "    \n",
    "    for i in range(1, n):\n",
    "        key = arr[i]\n",
    "        j = i - 1\n",
    "        \n",
    "        while j >= 0 and arr[j] > key:\n",
    "            arr[j + 1] = arr[j]\n",
    "            j -= 1\n",
    "        \n",
    "        arr[j + 1] = key\n",
    "        steps.append(arr.copy())\n",
    "    \n",
    "    return steps\n",
    "\n",
    "# [22 27 16 2 18 6] -> Insertion Sort\n",
    "arr_insertion = [22, 27, 16, 2, 18, 6]\n",
    "insertion_steps = insertion_sort(arr_insertion)\n",
    "\n",
    "print(\"Insertion Sort Stages:\")\n",
    "for step in insertion_steps:\n",
    "    print(step)"
   ]
  },
  {
   "cell_type": "code",
   "execution_count": 3,
   "id": "3ef0aaf0-f72a-4fdf-9fc1-0dcdbac81a16",
   "metadata": {},
   "outputs": [
    {
     "name": "stdout",
     "output_type": "stream",
     "text": [
      "\n",
      "Big-O Representation:\n",
      "Best case: O(n)\n",
      "Average case: O(n²)\n",
      "Worst case: O(n²)\n",
      "\n",
      "After the sequence is sorted, the number 18 falls under the average case.\n"
     ]
    }
   ],
   "source": [
    "# Big-O Representation and Time Complexity\n",
    "\n",
    "# Write the Big-O representation.\n",
    "# Time Complexity: After the array is sorted, the number 18 falls under which of the following cases? Write it down.\n",
    "\n",
    "big_o = {\n",
    "    'Best case': 'O(n)',\n",
    "    'Average case': 'O(n²)',\n",
    "    'Worst case': 'O(n²)',\n",
    "}\n",
    "\n",
    "print(\"\\nBig-O Representation:\")\n",
    "for case, complexity in big_o.items():\n",
    "    print(f\"{case}: {complexity}\")\n",
    "\n",
    "print(\"\\nAfter the sequence is sorted, the number 18 falls under the average case.\")"
   ]
  },
  {
   "cell_type": "code",
   "execution_count": 4,
   "id": "7f412868-f44e-4cdc-9da0-b560679b376d",
   "metadata": {},
   "outputs": [
    {
     "name": "stdout",
     "output_type": "stream",
     "text": [
      "Selection Sort First 4 Stages:\n",
      "[7, 3, 5, 8, 2, 9, 4, 15, 6]\n",
      "[2, 3, 5, 8, 7, 9, 4, 15, 6]\n",
      "[2, 3, 5, 8, 7, 9, 4, 15, 6]\n",
      "[2, 3, 4, 8, 7, 9, 5, 15, 6]\n",
      "[2, 3, 4, 5, 7, 9, 8, 15, 6]\n"
     ]
    }
   ],
   "source": [
    "# Selection Sort Stages\n",
    "\n",
    "def selection_sort(arr):\n",
    "    steps = []  \n",
    "    n = len(arr)\n",
    "\n",
    "    steps.append(arr.copy())\n",
    "    \n",
    "    for i in range(n):\n",
    "        min_idx = i\n",
    "        for j in range(i + 1, n):\n",
    "            if arr[j] < arr[min_idx]:\n",
    "                min_idx = j\n",
    "        arr[i], arr[min_idx] = arr[min_idx], arr[i]\n",
    "        steps.append(arr.copy())\n",
    "\n",
    "    return steps\n",
    "\n",
    "# Write the first 4 steps of the sequence [7,3,5,8,2,9,4,15,6] according to Selection Sort.\n",
    "arr_selection = [7, 3, 5, 8, 2, 9, 4, 15, 6]\n",
    "selection_steps = selection_sort(arr_selection)\n",
    "\n",
    "print(\"Selection Sort First 4 Stages:\")\n",
    "for i in range(5):  \n",
    "    print(selection_steps[i])"
   ]
  },
  {
   "cell_type": "code",
   "execution_count": 5,
   "id": "742d519f-5bad-4116-a07a-50a838165972",
   "metadata": {},
   "outputs": [],
   "source": [
    "# Insertion Sort\n",
    "\n",
    "# Given sequence: [22, 27, 16, 2, 18, 6]\n",
    "\n",
    "# 1. Initially sequence: [22, 27, 16, 2, 18, 6]\n",
    "# 2. I leave 27 in place because 22 < 27, so [22, 27, 16, 2, 18, 6] does not change.\n",
    "# 3. Now I place 16 in its correct place. Since it is smaller than 27 and 22, I must move these two elements to the right. My sequence is now [16, 22, 27, 2, 18, 6].\n",
    "# 4. Then I will place 2. I shift all the elements to the right, putting 2 at the top: [2, 16, 22, 27, 18, 6].\n",
    "# 5. Now I place 18. Since it is smaller than 27 and 22, I shift these two elements to the right again: [2, 16, 18, 22, 27, 6].\n",
    "# 6. Finally, I place 6. Since it is smaller than 27, 22, 18 and 16, I shift these four elements to the right and my sequence becomes: [2, 6, 16, 18, 22, 27].\n",
    "\n",
    "# The resulting array is: [2, 6, 16, 18, 22, 27]\n",
    "\n",
    "# Big-O Screening\n",
    "\n",
    "# Best case: O(n) (if the sequence is ordered)\n",
    "# Mean state: O(n²)\n",
    "# Worst case: O(n²) (if the sequence is in reverse order)\n",
    "\n",
    "# After the sequence is sorted, the number 18 falls under the average case because it is in the middle of the sequence.\n",
    "\n",
    "#Selection Sort\n",
    "\n",
    "#Given sequence: [7, 3, 5, 8, 2, 9, 4, 15, 6]\n",
    "\n",
    "# 1. In the first step I find the smallest element, which is 2. I replace it with the first element: [2, 3, 5, 8, 7, 9, 4, 15, 6].\n",
    "# 2. In the second step, I leave the 3 with 3 in place because it is already in the right place, my sequence does not change: [2, 3, 5, 8, 7, 9, 4, 15, 6].\n",
    "# 3. In the third step, I replace 4 and 5, my sequence becomes: [2, 3, 4, 8, 7, 9, 5, 15, 6].\n",
    "# 4. In the fourth step, I replace 5 with 8. \n",
    "\n",
    "# The resulting sequence is: [2, 3, 4, 5, 7, 9, 8, 15, 6]."
   ]
  }
 ],
 "metadata": {
  "kernelspec": {
   "display_name": "Python 3 (ipykernel)",
   "language": "python",
   "name": "python3"
  },
  "language_info": {
   "codemirror_mode": {
    "name": "ipython",
    "version": 3
   },
   "file_extension": ".py",
   "mimetype": "text/x-python",
   "name": "python",
   "nbconvert_exporter": "python",
   "pygments_lexer": "ipython3",
   "version": "3.12.4"
  }
 },
 "nbformat": 4,
 "nbformat_minor": 5
}
